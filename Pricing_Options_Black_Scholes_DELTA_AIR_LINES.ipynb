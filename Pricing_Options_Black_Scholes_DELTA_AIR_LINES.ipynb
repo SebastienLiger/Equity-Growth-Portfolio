{
  "nbformat": 4,
  "nbformat_minor": 0,
  "metadata": {
    "colab": {
      "provenance": [],
      "authorship_tag": "ABX9TyOEQ523P4T3dxlqoTsUDSAU",
      "include_colab_link": true
    },
    "kernelspec": {
      "name": "python3",
      "display_name": "Python 3"
    },
    "language_info": {
      "name": "python"
    }
  },
  "cells": [
    {
      "cell_type": "markdown",
      "metadata": {
        "id": "view-in-github",
        "colab_type": "text"
      },
      "source": [
        "<a href=\"https://colab.research.google.com/github/SebastienLiger/Portfolio-Finance/blob/Finance/Pricing_Options_Black_Scholes_DELTA_AIR_LINES.ipynb\" target=\"_parent\"><img src=\"https://colab.research.google.com/assets/colab-badge.svg\" alt=\"Open In Colab\"/></a>"
      ]
    },
    {
      "cell_type": "code",
      "source": [
        "import yfinance as yf\n",
        "import numpy as np\n",
        "import pandas as pd\n",
        "from scipy.stats import norm\n",
        "from tabulate import tabulate"
      ],
      "metadata": {
        "id": "9GRoYyKaBz4m"
      },
      "execution_count": 5,
      "outputs": []
    },
    {
      "cell_type": "code",
      "source": [
        "# Fonctions du modèle Black-Scholes\n",
        "def black_scholes(S, K, T, r, sigma):\n",
        "    \"\"\"\n",
        "    Calcule les prix d'une option call et put selon le modèle Black-Scholes.\n",
        "    \"\"\"\n",
        "    d1, d2 = calculate_d1_d2(S, K, T, r, sigma)\n",
        "    call = S * norm.cdf(d1) - K * np.exp(-r * T) * norm.cdf(d2)\n",
        "    put = K * np.exp(-r * T) * norm.cdf(-d2) - S * norm.cdf(-d1)\n",
        "    return call, put\n",
        "\n",
        "def calculate_d1_d2(S, K, T, r, sigma):\n",
        "    \"\"\"\n",
        "    Calcule d1 et d2 pour le modèle Black-Scholes.\n",
        "    \"\"\"\n",
        "    d1 = (np.log(S / K) + (r + 0.5 * sigma ** 2) * T) / (sigma * np.sqrt(T))\n",
        "    d2 = d1 - sigma * np.sqrt(T)\n",
        "    return d1, d2\n",
        "\n",
        "def black_scholes_greeks(S, K, T, r, sigma, d1, d2):\n",
        "    \"\"\"\n",
        "    Calcule les Greeks pour une option selon le modèle Black-Scholes.\n",
        "    \"\"\"\n",
        "    call_delta = norm.cdf(d1)\n",
        "    put_delta = norm.cdf(-d1)\n",
        "    gamma = norm.pdf(d1) / (S * sigma * np.sqrt(T))\n",
        "    call_theta = (-S * sigma * norm.pdf(d1)) / (2 * np.sqrt(T)) - r * K * np.exp(-r * T) * norm.cdf(d2)\n",
        "    put_theta = (-S * sigma * norm.pdf(-d1)) / (2 * np.sqrt(T)) + r * K * np.exp(-r * T) * norm.cdf(-d2)\n",
        "    vega = S * np.sqrt(T) * norm.pdf(d1)\n",
        "    rho_call = K * T * np.exp(-r * T) * norm.cdf(d2)\n",
        "    rho_put = -K * T * np.exp(-r * T) * norm.cdf(-d2)\n",
        "    return {'call_delta': call_delta, 'put_delta': put_delta, 'gamma': gamma,\n",
        "            'call_theta': call_theta, 'put_theta': put_theta, 'vega': vega,\n",
        "            'rho_call': rho_call, 'rho_put': rho_put}\n"
      ],
      "metadata": {
        "id": "vUpPX5UNCqXu"
      },
      "execution_count": 6,
      "outputs": []
    },
    {
      "cell_type": "code",
      "source": [
        "from datetime import datetime, timedelta\n",
        "\n",
        "# Créez une instance de l'objet Ticker pour l'action Delta Airlines (DAL)\n",
        "delta_airlines = yf.Ticker(\"OYC.F\")\n",
        "\n",
        "# Obtenez les données actuelles\n",
        "current_data = delta_airlines.history(period=\"1d\")\n",
        "\n",
        "# Extrayez le prix actuel\n",
        "current_price = current_data[\"Close\"].iloc[0]\n",
        "\n",
        "# Affichez le prix actuel\n",
        "print(f\"Prix : €{current_price:.2f}\")\n",
        "\n",
        "# Obtention des données historiques sur la dernière année\n",
        "historical_data = delta_airlines.history(period=\"1y\")\n",
        "\n",
        "# Calcul de la volatilité sur la dernière année\n",
        "historical_data[\"Log Returns\"] = np.log(historical_data[\"Close\"] / historical_data[\"Close\"].shift(1))\n",
        "volatility = historical_data[\"Log Returns\"].std() * np.sqrt(252)  # 252 jours ouvrables dans une année\n",
        "\n",
        "print(f\"Volatilité : {volatility * 100:.2f}%\")\n",
        "\n",
        "# Fonction pour trouver le dernier vendredi\n",
        "def last_friday():\n",
        "    today = datetime.today()\n",
        "    last_friday = today - timedelta(days=(today.weekday() - 4) % 7 + 1)  # Ajuste au dernier vendredi\n",
        "    return last_friday.date()\n",
        "\n",
        "# Obtenez la date du dernier vendredi\n",
        "date_last_friday = last_friday()\n",
        "\n",
        "# Créez l'objet Ticker pour ^TYX\n",
        "treasuries_us = yf.Ticker(\"^TYX\")\n",
        "\n",
        "# Récupérer les données pour le dernier vendredi\n",
        "current_data_risk_free_rate = treasuries_us.history(start=date_last_friday, end=date_last_friday + timedelta(days=1))\n",
        "\n",
        "# Vérifiez si des données de prix sont disponibles et récupérez la dernière donnée non nulle\n",
        "if not current_data_risk_free_rate.empty and not current_data_risk_free_rate[\"Close\"].dropna().empty:\n",
        "    current_price_risk_free_rate = current_data_risk_free_rate[\"Close\"].dropna().iloc[-1]\n",
        "else:\n",
        "    # Si aucune donnée n'est disponible, définir une valeur par défaut ou gérer l'erreur\n",
        "    print(\"Aucune donnée de taux sans risque disponible pour le dernier vendredi.\")\n",
        "    # Utiliser une valeur de taux sans risque par défaut\n",
        "    current_price_risk_free_rate = 0.03\n",
        "\n",
        "# Calculer le taux sans risque actuel\n",
        "current_price_RFR = current_price_risk_free_rate / 100\n",
        "\n",
        "print(f\"Risk free rate for last Friday ({date_last_friday}): {current_price_RFR:.4f}\")"
      ],
      "metadata": {
        "colab": {
          "base_uri": "https://localhost:8080/"
        },
        "id": "9HUszCrk_fcw",
        "outputId": "0374787a-6128-4c6c-850f-755c22f4285d"
      },
      "execution_count": 7,
      "outputs": [
        {
          "output_type": "stream",
          "name": "stdout",
          "text": [
            "Prix : €39.99\n",
            "Volatilité : 29.87%\n",
            "Risk free rate for last Friday (2024-03-07): 0.0425\n"
          ]
        }
      ]
    },
    {
      "cell_type": "code",
      "source": [
        "# Paramètres de l'option\n",
        "S, K, T, r, sigma = current_price, 45, 1, current_price_RFR, volatility\n",
        "\n",
        "# Calcul de d1, d2, prix des options et Greeks\n",
        "d1, d2 = calculate_d1_d2(S, K, T, r, sigma)\n",
        "call_price, put_price = black_scholes(S, K, T, r, sigma)\n",
        "greeks = black_scholes_greeks(S, K, T, r, sigma, d1, d2)\n",
        "\n",
        "# Création du DataFrame\n",
        "data = {\n",
        "    \"Call\": [f\"{call_price:.2f}€\", f\"{greeks['call_delta']:.2f}\", f\"{greeks['gamma']:.2f}\", f\"{greeks['call_theta']:.2f}\", f\"{greeks['vega']:.2f}\", f\"{greeks['rho_call']:.2f}\", f\"{d1:.2f}\", f\"{d2:.2f}\"],\n",
        "    \"Put\": [f\"{put_price:.2f}€\", f\"{greeks['put_delta']:.2f}\", f\"{greeks['gamma']:.2f}\", f\"{greeks['put_theta']:.2f}\", f\"{greeks['vega']:.2f}\", f\"{greeks['rho_put']:.2f}\", f\"{d1:.2f}\", f\"{d2:.2f}\"]\n",
        "}\n",
        "index = [\"Price\", \"Delta\", \"Gamma\", \"Theta\", \"Vega\", \"Rho\", \"d1\", \"d2\"]\n",
        "df = pd.DataFrame(data, index=index)\n",
        "\n",
        "# Affichage du tableau\n",
        "print(tabulate(df, headers='keys', tablefmt='fancy_grid'))"
      ],
      "metadata": {
        "colab": {
          "base_uri": "https://localhost:8080/"
        },
        "id": "R9ZPAhsfCt18",
        "outputId": "af3e230b-9016-4e65-e1c7-a7ba9439f897"
      },
      "execution_count": 8,
      "outputs": [
        {
          "output_type": "stream",
          "name": "stdout",
          "text": [
            "╒═══════╤════════╤════════╕\n",
            "│       │ Call   │ Put    │\n",
            "╞═══════╪════════╪════════╡\n",
            "│ Price │ 3.52€  │ 6.66€  │\n",
            "├───────┼────────┼────────┤\n",
            "│ Delta │ 0.46   │ 0.54   │\n",
            "├───────┼────────┼────────┤\n",
            "│ Gamma │ 0.03   │ 0.03   │\n",
            "├───────┼────────┼────────┤\n",
            "│ Theta │ -3.00  │ -1.17  │\n",
            "├───────┼────────┼────────┤\n",
            "│ Vega  │ 15.87  │ 15.87  │\n",
            "├───────┼────────┼────────┤\n",
            "│ Rho   │ 14.83  │ -28.30 │\n",
            "├───────┼────────┼────────┤\n",
            "│ d1    │ -0.10  │ -0.10  │\n",
            "├───────┼────────┼────────┤\n",
            "│ d2    │ -0.40  │ -0.40  │\n",
            "╘═══════╧════════╧════════╛\n"
          ]
        }
      ]
    }
  ]
}